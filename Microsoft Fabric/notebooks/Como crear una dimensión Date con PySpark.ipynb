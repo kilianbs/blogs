{
 "cells": [
  {
   "cell_type": "code",
   "execution_count": null,
   "metadata": {},
   "outputs": [],
   "source": [
    "from pyspark.sql.functions import explode, sequence, to_date\n",
    "\n",
    "fechaInicio = '2000-01-01'\n",
    "fechaFin = '2025-12-31'\n",
    "\n",
    "spark.sql(f\"select explode(sequence(to_date('{fechaInicio}'), to_date('{fechaFin}'), interval 1 day)) as fecha\") \\\n",
    "    .createOrReplaceTempView('vwfecha')\n"
   ]
  },
  {
   "cell_type": "code",
   "execution_count": null,
   "metadata": {},
   "outputs": [],
   "source": [
    "df = spark.sql(\"\"\"\n",
    "select\n",
    "  year(fecha) * 10000 + month(fecha) * 100 + day(fecha) AS idFecha,\n",
    "  fecha,\n",
    "  year(fecha) AS Anio,\n",
    "  quarter(fecha) AS Trimestre,\n",
    "  date_format(fecha, 'QQQ') AS TrimestreDesc,\n",
    "  month(fecha) AS Mes,\n",
    "  date_format(fecha, 'MMMM') AS MesDesc,\n",
    "  CASE \n",
    "    WHEN month(fecha) = 1 THEN 'Enero'\n",
    "    WHEN month(fecha) = 2 THEN 'Febrero'\n",
    "    WHEN month(fecha) = 3 THEN 'Marzo'\n",
    "    WHEN month(fecha) = 4 THEN 'Abril'\n",
    "    WHEN month(fecha) = 5 THEN 'Mayo'\n",
    "    WHEN month(fecha) = 6 THEN 'Junio'\n",
    "    WHEN month(fecha) = 7 THEN 'Julio'\n",
    "    WHEN month(fecha) = 8 THEN 'Agosto'\n",
    "    WHEN month(fecha) = 9 THEN 'Septiembre'\n",
    "    WHEN month(fecha) = 10 THEN 'Octubre'\n",
    "    WHEN month(fecha) = 11 THEN 'Noviembre'\n",
    "    WHEN month(fecha) = 12 THEN 'Diciembre'\n",
    "  END AS MesDesc_ESP,\n",
    "  day(fecha) AS dia,\n",
    "  date_format(fecha, 'EEEE') AS DiaDesc,\n",
    "  CASE\n",
    "    WHEN dayofweek(fecha) = 1 THEN 'Domingo'\n",
    "    WHEN dayofweek(fecha) = 2 THEN 'Lunes'\n",
    "    WHEN dayofweek(fecha) = 3 THEN 'Martes'\n",
    "    WHEN dayofweek(fecha) = 4 THEN 'Miércoles'\n",
    "    WHEN dayofweek(fecha) = 5 THEN 'Jueves'\n",
    "    WHEN dayofweek(fecha) = 6 THEN 'Viernes'\n",
    "    WHEN dayofweek(fecha) = 7 THEN 'Sábado'\n",
    "  END AS DiaDesc_ESP,   \n",
    "  dayofyear(fecha) AS DiaDelAnio,\n",
    "  weekofyear(fecha) AS Semana,\n",
    "  date_format(fecha, 'yyyy-MM') AS Periodo\n",
    "from\n",
    "  vwfecha\n",
    "\n",
    "\"\"\")\n",
    "\n",
    "df.write.mode('overwrite').format(\"delta\").saveAsTable(\"dimFecha\")"
   ]
  }
 ],
 "metadata": {
  "language_info": {
   "name": "python"
  }
 },
 "nbformat": 4,
 "nbformat_minor": 2
}
