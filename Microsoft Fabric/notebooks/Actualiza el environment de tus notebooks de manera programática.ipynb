{
 "cells": [
  {
   "cell_type": "markdown",
   "id": "543e64a9",
   "metadata": {},
   "source": [
    "# Instalación de librería semantic-link-labs"
   ]
  },
  {
   "cell_type": "code",
   "execution_count": null,
   "id": "993e2c99",
   "metadata": {},
   "outputs": [],
   "source": [
    "%pip install semantic-link-labs"
   ]
  },
  {
   "cell_type": "markdown",
   "id": "77dc9758",
   "metadata": {},
   "source": [
    "# Imports"
   ]
  },
  {
   "cell_type": "code",
   "execution_count": null,
   "id": "1cb9d454",
   "metadata": {},
   "outputs": [],
   "source": [
    "import sempy_labs as labs\n",
    "import json"
   ]
  },
  {
   "cell_type": "markdown",
   "id": "8d454c67",
   "metadata": {},
   "source": [
    "# Obteniendo la definición del notebook"
   ]
  },
  {
   "cell_type": "code",
   "execution_count": null,
   "id": "53126d77",
   "metadata": {},
   "outputs": [],
   "source": [
    "labs.get_notebook_definition(notebook_name=\"<notebook-name>\", format=\"ipynb\")"
   ]
  },
  {
   "cell_type": "markdown",
   "id": "315a1259",
   "metadata": {},
   "source": [
    "# Eliminando el environment"
   ]
  },
  {
   "cell_type": "code",
   "execution_count": null,
   "id": "95e82b25",
   "metadata": {},
   "outputs": [],
   "source": [
    "notebook_name = \"<notebook-name>\"\n",
    "\n",
    "definition = labs.get_notebook_definition(notebook_name=notebook_name, format=\"ipynb\")\n",
    "definition = json.loads(definition)\n",
    "\n",
    "if (\n",
    "    \"metadata\" in definition and\n",
    "    \"dependencies\" in definition[\"metadata\"] and\n",
    "    \"environment\" in definition[\"metadata\"][\"dependencies\"]\n",
    "):\n",
    "    print(f\"Actualizando notebook: {notebook_name}\")\n",
    "    definition[\"metadata\"][\"dependencies\"][\"environment\"] = {}\n",
    "\n",
    "    updated_definition_str = json.dumps(definition)\n",
    "\n",
    "    labs.update_notebook_definition(name =notebook_name, notebook_content =updated_definition_str, format=\"ipynb\")"
   ]
  },
  {
   "cell_type": "markdown",
   "id": "86a16082",
   "metadata": {},
   "source": [
    "# Asignando un nuevo environment"
   ]
  },
  {
   "cell_type": "code",
   "execution_count": null,
   "id": "ada9935c",
   "metadata": {},
   "outputs": [],
   "source": [
    "notebook_name = \"<notebook-name>\"\n",
    "environment_id = \"<environment-id>\"\n",
    "workspace_id = \"<workspace-id>\"\n",
    "\n",
    "definition = labs.get_notebook_definition(notebook_name=notebook_name, format=\"ipynb\")\n",
    "definition = json.loads(definition)\n",
    "\n",
    "if (\n",
    "    \"metadata\" in definition and\n",
    "    \"dependencies\" in definition[\"metadata\"] and\n",
    "    \"environment\" in definition[\"metadata\"][\"dependencies\"]\n",
    "):\n",
    "    print(f\"Actualizando notebook: {notebook_name}\")\n",
    "\n",
    "    definition[\"metadata\"][\"dependencies\"][\"environment\"] = {\"environmentId\": environment_id, \"workspaceId\": workspace_id}\n",
    "    updated_definition_str = json.dumps(definition)\n",
    "\n",
    "    labs.update_notebook_definition(name =notebook_name, notebook_content =updated_definition_str, format=\"ipynb\")"
   ]
  },
  {
   "cell_type": "markdown",
   "id": "c703a5af",
   "metadata": {},
   "source": [
    "## ¿Cómo puedo obtener el environmentId?"
   ]
  },
  {
   "cell_type": "code",
   "execution_count": null,
   "id": "1c9d43c5",
   "metadata": {},
   "outputs": [],
   "source": [
    "labs.list_environments()"
   ]
  },
  {
   "cell_type": "code",
   "execution_count": null,
   "id": "3e5360e0",
   "metadata": {},
   "outputs": [],
   "source": [
    "labs.list_environments(workspace=\"<workspace-name>\")"
   ]
  },
  {
   "cell_type": "markdown",
   "id": "3273eff7",
   "metadata": {},
   "source": [
    "# Automatización para todos los notebooks de un área de trabajo"
   ]
  },
  {
   "cell_type": "code",
   "execution_count": null,
   "id": "46e7a9a0",
   "metadata": {},
   "outputs": [],
   "source": [
    "notebooks_df = labs.list_notebooks()\n",
    "\n",
    "for _, row in notebooks_df.iterrows():\n",
    "    notebook_id = row[\"Notebook Id\"]\n",
    "    notebook_name = row[\"Notebook Name\"]\n",
    "    print(f\"{notebook_id} - {notebook_name}\")\n",
    "\n",
    "    definition = labs.get_notebook_definition(notebook_name=notebook_name, format=\"ipynb\")\n",
    "    definition = json.loads(definition)\n",
    "\n",
    "    if (\n",
    "        \"metadata\" in definition and\n",
    "        \"dependencies\" in definition[\"metadata\"] and\n",
    "        \"environment\" in definition[\"metadata\"][\"dependencies\"]\n",
    "    ):\n",
    "        print(f\"Actualizando notebook: {notebook_name}\")\n",
    "\n",
    "        definition[\"metadata\"][\"dependencies\"][\"environment\"] = {}\n",
    "        updated_definition_str = json.dumps(definition)\n",
    "\n",
    "        labs.update_notebook_definition(\n",
    "            name =notebook_name,\n",
    "            notebook_content =updated_definition_str,\n",
    "            format=\"ipynb\"\n",
    "        )\n",
    "    else:\n",
    "        print(\"Este notebook no tiene environment definido.\")"
   ]
  }
 ],
 "metadata": {
  "kernelspec": {
   "display_name": "Python 3",
   "language": "python",
   "name": "python3"
  },
  "language_info": {
   "name": "python",
   "version": "3.13.3"
  }
 },
 "nbformat": 4,
 "nbformat_minor": 5
}
