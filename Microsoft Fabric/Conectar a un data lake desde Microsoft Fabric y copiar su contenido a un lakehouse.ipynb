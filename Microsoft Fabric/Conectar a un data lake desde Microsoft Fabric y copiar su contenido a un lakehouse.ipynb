{
 "cells": [
  {
   "cell_type": "markdown",
   "metadata": {},
   "source": [
    "https://datagym.es/conectar-a-un-data-lake-desde-microsoft-fabric-y-copiar-su-contenido-a-un-lakehouse"
   ]
  },
  {
   "cell_type": "code",
   "execution_count": null,
   "metadata": {},
   "outputs": [],
   "source": [
    "def connectStorageAcc(storage_account, appid, secretKey, directoryid):\n",
    "    spark.conf.set(\"fs.azure.account.auth.type.\"+storage_account+\".dfs.core.windows.net\", \"OAuth\")\n",
    "    spark.conf.set(\"fs.azure.account.oauth.provider.type.\"+storage_account+\".dfs.core.windows.net\", \"org.apache.hadoop.fs.azurebfs.oauth2.ClientCredsTokenProvider\")\n",
    "    spark.conf.set(\"fs.azure.account.oauth2.client.id.\"+storage_account+\".dfs.core.windows.net\", appid)\n",
    "    spark.conf.set(\"fs.azure.account.oauth2.client.secret.\"+storage_account+\".dfs.core.windows.net\", secretKey)\n",
    "    spark.conf.set(\"fs.azure.account.oauth2.client.endpoint.\"+storage_account+\".dfs.core.windows.net\", \"https://login.microsoftonline.com/\"+directoryid+\"/oauth2/token\")\n",
    "    return print(\"Connected to storage account \"+storage_account)"
   ]
  },
  {
   "cell_type": "code",
   "execution_count": null,
   "metadata": {},
   "outputs": [],
   "source": [
    "storage_account = \"storage_account_name\"\n",
    "container = \"data_lake_name\"\n",
    "appid = \"your_app_id\"\n",
    "secretKey = \"secret_value\"\n",
    "directoryid = \"tenant_id\""
   ]
  },
  {
   "cell_type": "code",
   "execution_count": null,
   "metadata": {},
   "outputs": [],
   "source": [
    "connectStorageAcc(storage_account,appid,secretKey,directoryid)"
   ]
  },
  {
   "cell_type": "code",
   "execution_count": null,
   "metadata": {},
   "outputs": [],
   "source": [
    "file_location = \"abfss://\"+container+\"@\"+storage_account+\".dfs.core.windows.net/\"\n",
    "list_of_folders = mssparkutils.fs.ls(file_location)"
   ]
  },
  {
   "cell_type": "code",
   "execution_count": null,
   "metadata": {},
   "outputs": [],
   "source": [
    "for f in list_of_folders:\n",
    "   file_path = f.path\n",
    "   mssparkutils.fs.mv(file_path, 'Files', True)\n"
   ]
  }
 ],
 "metadata": {
  "language_info": {
   "name": "python"
  }
 },
 "nbformat": 4,
 "nbformat_minor": 2
}
